{
 "cells": [
  {
   "cell_type": "markdown",
   "metadata": {},
   "source": [
    "## Interface for the Dog Breed Classifier\n",
    "\n",
    "This file provides a GUI that enables users to upload their dog pictures so that the two most likely breeds will be shown."
   ]
  },
  {
   "cell_type": "code",
   "execution_count": 1,
   "metadata": {},
   "outputs": [
    {
     "name": "stderr",
     "output_type": "stream",
     "text": [
      "/Library/Frameworks/Python.framework/Versions/3.12/lib/python3.12/site-packages/tqdm/auto.py:21: TqdmWarning: IProgress not found. Please update jupyter and ipywidgets. See https://ipywidgets.readthedocs.io/en/stable/user_install.html\n",
      "  from .autonotebook import tqdm as notebook_tqdm\n",
      "/var/folders/ww/09hqr1053jdbklp9j9b8txz80000gn/T/ipykernel_38803/3928591495.py:17: FutureWarning: You are using `torch.load` with `weights_only=False` (the current default value), which uses the default pickle module implicitly. It is possible to construct malicious pickle data which will execute arbitrary code during unpickling (See https://github.com/pytorch/pytorch/blob/main/SECURITY.md#untrusted-models for more details). In a future release, the default value for `weights_only` will be flipped to `True`. This limits the functions that could be executed during unpickling. Arbitrary objects will no longer be allowed to be loaded via this mode unless they are explicitly allowlisted by the user via `torch.serialization.add_safe_globals`. We recommend you start setting `weights_only=True` for any use case where you don't have full control of the loaded file. Please open an issue on GitHub for any issues related to this experimental feature.\n",
      "  model = torch.load(\"model_imp_v2.pth\", map_location=torch.device(\"cpu\"))\n",
      "2024-12-19 14:33:14.286 Python[38803:17272562] +[IMKClient subclass]: chose IMKClient_Modern\n",
      "2024-12-19 14:33:14.286 Python[38803:17272562] +[IMKInputSession subclass]: chose IMKInputSession_Modern\n",
      "2024-12-19 14:33:16.430 Python[38803:17272562] The class 'NSOpenPanel' overrides the method identifier.  This method is implemented by class 'NSWindow'\n"
     ]
    }
   ],
   "source": [
    "import tkinter as tk\n",
    "from tkinter import filedialog, Label\n",
    "from PIL import Image, ImageTk\n",
    "import torch\n",
    "from transformers import AutoImageProcessor\n",
    "import joblib\n",
    "import pandas as pd\n",
    "\n",
    "# Load LabelEncoder and class names\n",
    "label_encoder = joblib.load(\"label_encoder.pkl\")\n",
    "class_names = list(label_encoder.classes_)\n",
    "\n",
    "# Initialize the image processor\n",
    "image_processor = AutoImageProcessor.from_pretrained(\"microsoft/resnet-18\")\n",
    "\n",
    "# Load the trained model\n",
    "model = torch.load(\"model_imp_v2.pth\", map_location=torch.device(\"cpu\"))\n",
    "model.eval()\n",
    "\n",
    "# Function to process and predict\n",
    "def predict_image(filepath):\n",
    "    # Load and preprocess the image\n",
    "    image = Image.open(filepath).convert(\"RGB\")\n",
    "    inputs = image_processor(image, return_tensors=\"pt\")\n",
    "    \n",
    "    # Predict using the model\n",
    "    with torch.no_grad():\n",
    "        outputs = model(**inputs)\n",
    "        probabilities = torch.nn.functional.softmax(outputs.logits[0], dim=0)\n",
    "        top2_prob, top2_idx = torch.topk(probabilities, 2)\n",
    "\n",
    "    # Map indices to breed names\n",
    "    try:\n",
    "        top2_breeds = [(class_names[idx], prob.item()) for idx, prob in zip(top2_idx, top2_prob)]\n",
    "    except IndexError as e:\n",
    "        print(f\"Error: {e}\")\n",
    "        return [(\"Unknown\", 0.0), (\"Unknown\", 0.0)]\n",
    "    \n",
    "    return top2_breeds\n",
    "\n",
    "# Function to open file dialog\n",
    "def open_file_dialog():\n",
    "    filepath = filedialog.askopenfilename(filetypes=[(\"JPEG files\", \"*.jpg\"), \n",
    "                                                 (\"PNG files\", \"*.png\"),\n",
    "                                                 (\"All files\", \"*.*\")])\n",
    "    if filepath:\n",
    "        # Display the image\n",
    "        image = Image.open(filepath).resize((250, 250))\n",
    "        img = ImageTk.PhotoImage(image)\n",
    "        img_label.configure(image=img)\n",
    "        img_label.image = img\n",
    "\n",
    "        # Predict and display results\n",
    "        predictions = predict_image(filepath)\n",
    "        result_text = (f\"Your dog is a {predictions[0][0]} with {predictions[0][1]:.2%} probability \"\n",
    "                       f\"and a {predictions[1][0]} with {predictions[1][1]:.2%} probability.\")\n",
    "        result_label.configure(text=result_text)\n",
    "    else:\n",
    "        result_label.configure(text=\"Please upload a dog picture!\")\n",
    "\n",
    "# Create GUI window\n",
    "window = tk.Tk()\n",
    "window.title(\"Dog Breed Predictor\")\n",
    "\n",
    "# Add prompt label\n",
    "prompt_label = Label(window, text=\"Please upload a dog picture!\", font=(\"Helvetica\", 16), fg=\"blue\")\n",
    "prompt_label.pack()\n",
    "\n",
    "# Add upload button\n",
    "upload_button = tk.Button(window, text=\"Upload Image\", command=open_file_dialog)\n",
    "upload_button.pack()\n",
    "\n",
    "# Add image display label\n",
    "img_label = Label(window)\n",
    "img_label.pack()\n",
    "\n",
    "# Add result display label\n",
    "result_label = Label(window, text=\"\", font=(\"Helvetica\", 14))\n",
    "result_label.pack()\n",
    "\n",
    "# Run the GUI event loop\n",
    "window.mainloop()\n"
   ]
  }
 ],
 "metadata": {
  "kernelspec": {
   "display_name": "Python 3",
   "language": "python",
   "name": "python3"
  },
  "language_info": {
   "codemirror_mode": {
    "name": "ipython",
    "version": 3
   },
   "file_extension": ".py",
   "mimetype": "text/x-python",
   "name": "python",
   "nbconvert_exporter": "python",
   "pygments_lexer": "ipython3",
   "version": "3.12.2"
  }
 },
 "nbformat": 4,
 "nbformat_minor": 2
}
